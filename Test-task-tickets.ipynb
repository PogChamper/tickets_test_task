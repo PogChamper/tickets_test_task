{
 "cells": [
  {
   "cell_type": "code",
   "execution_count": 21,
   "metadata": {},
   "outputs": [],
   "source": [
    "# импорт библиотек\n",
    "\n",
    "import numpy as np\n",
    "import pandas as pd\n",
    "from matplotlib import pyplot as plt\n",
    "from sklearn import metrics\n",
    "from sklearn.model_selection import cross_val_score\n",
    "import matplotlib.pyplot as plt\n",
    "from sklearn.metrics import plot_confusion_matrix\n",
    "from sklearn.model_selection import train_test_split\n",
    "from sklearn.preprocessing import RobustScaler\n",
    "from sklearn.ensemble import GradientBoostingClassifier\n",
    "from sklearn.metrics import precision_recall_curve, roc_curve, auc, roc_auc_score\n",
    "from sklearn.model_selection import GridSearchCV\n",
    "\n",
    "%matplotlib inline"
   ]
  },
  {
   "cell_type": "code",
   "execution_count": 22,
   "metadata": {},
   "outputs": [],
   "source": [
    "df = pd.read_csv('train_2.csv', low_memory=False)"
   ]
  },
  {
   "cell_type": "code",
   "execution_count": 23,
   "metadata": {},
   "outputs": [
    {
     "data": {
      "text/plain": [
       "Unnamed: 0                                                                    0\n",
       "ticket_id                                                                 22056\n",
       "agency_name                      Buildings, Safety Engineering & Env Department\n",
       "inspector_name                                                  Sims, Martinzie\n",
       "violator_name                                 INVESTMENT INC., MIDWEST MORTGAGE\n",
       "violation_street_number                                                    2900\n",
       "violation_street_name                                                     TYLER\n",
       "violation_zip_code                                                          NaN\n",
       "mailing_address_str_number                                                    3\n",
       "mailing_address_str_name                                              S. WICKER\n",
       "city                                                                    CHICAGO\n",
       "state                                                                        IL\n",
       "zip_code                                                                  60606\n",
       "non_us_str_code                                                             NaN\n",
       "country                                                                     USA\n",
       "ticket_issued_date                                          2004-03-16 11:40:00\n",
       "hearing_date                                                2005-03-21 10:30:00\n",
       "violation_code                                                        9-1-36(a)\n",
       "violation_description         Failure of owner to obtain certificate of comp...\n",
       "disposition                                              Responsible by Default\n",
       "fine_amount                                                                 250\n",
       "admin_fee                                                                    20\n",
       "state_fee                                                                    10\n",
       "late_fee                                                                     25\n",
       "discount_amount                                                               0\n",
       "clean_up_cost                                                                 0\n",
       "judgment_amount                                                             305\n",
       "payment_amount                                                                0\n",
       "balance_due                                                                 305\n",
       "payment_date                                                                NaN\n",
       "payment_status                                               NO PAYMENT APPLIED\n",
       "collection_status                                                           NaN\n",
       "grafitti_status                                                             NaN\n",
       "compliance_detail                                   non-compliant by no payment\n",
       "compliance                                                                    0\n",
       "Name: 0, dtype: object"
      ]
     },
     "execution_count": 23,
     "metadata": {},
     "output_type": "execute_result"
    }
   ],
   "source": [
    "# смотрим на названия столбцов (не используем .head() из-за слишком большого числа столбцов) \n",
    "df.iloc[0]"
   ]
  },
  {
   "cell_type": "code",
   "execution_count": 24,
   "metadata": {},
   "outputs": [
    {
     "data": {
      "text/html": [
       "<div>\n",
       "<style scoped>\n",
       "    .dataframe tbody tr th:only-of-type {\n",
       "        vertical-align: middle;\n",
       "    }\n",
       "\n",
       "    .dataframe tbody tr th {\n",
       "        vertical-align: top;\n",
       "    }\n",
       "\n",
       "    .dataframe thead th {\n",
       "        text-align: right;\n",
       "    }\n",
       "</style>\n",
       "<table border=\"1\" class=\"dataframe\">\n",
       "  <thead>\n",
       "    <tr style=\"text-align: right;\">\n",
       "      <th></th>\n",
       "      <th>ticket_id</th>\n",
       "      <th>address</th>\n",
       "    </tr>\n",
       "  </thead>\n",
       "  <tbody>\n",
       "    <tr>\n",
       "      <th>0</th>\n",
       "      <td>22056</td>\n",
       "      <td>2900 tyler, Detroit MI</td>\n",
       "    </tr>\n",
       "    <tr>\n",
       "      <th>1</th>\n",
       "      <td>27586</td>\n",
       "      <td>4311 central, Detroit MI</td>\n",
       "    </tr>\n",
       "    <tr>\n",
       "      <th>2</th>\n",
       "      <td>22062</td>\n",
       "      <td>1449 longfellow, Detroit MI</td>\n",
       "    </tr>\n",
       "    <tr>\n",
       "      <th>3</th>\n",
       "      <td>22084</td>\n",
       "      <td>1441 longfellow, Detroit MI</td>\n",
       "    </tr>\n",
       "    <tr>\n",
       "      <th>4</th>\n",
       "      <td>22093</td>\n",
       "      <td>2449 churchill, Detroit MI</td>\n",
       "    </tr>\n",
       "  </tbody>\n",
       "</table>\n",
       "</div>"
      ],
      "text/plain": [
       "   ticket_id                      address\n",
       "0      22056       2900 tyler, Detroit MI\n",
       "1      27586     4311 central, Detroit MI\n",
       "2      22062  1449 longfellow, Detroit MI\n",
       "3      22084  1441 longfellow, Detroit MI\n",
       "4      22093   2449 churchill, Detroit MI"
      ]
     },
     "execution_count": 24,
     "metadata": {},
     "output_type": "execute_result"
    }
   ],
   "source": [
    "# ticker_id связан с адресами\n",
    "df1 = pd.read_csv('addresses.csv')\n",
    "df1.head()"
   ]
  },
  {
   "cell_type": "code",
   "execution_count": 25,
   "metadata": {},
   "outputs": [
    {
     "data": {
      "text/html": [
       "<div>\n",
       "<style scoped>\n",
       "    .dataframe tbody tr th:only-of-type {\n",
       "        vertical-align: middle;\n",
       "    }\n",
       "\n",
       "    .dataframe tbody tr th {\n",
       "        vertical-align: top;\n",
       "    }\n",
       "\n",
       "    .dataframe thead th {\n",
       "        text-align: right;\n",
       "    }\n",
       "</style>\n",
       "<table border=\"1\" class=\"dataframe\">\n",
       "  <thead>\n",
       "    <tr style=\"text-align: right;\">\n",
       "      <th></th>\n",
       "      <th>address</th>\n",
       "      <th>lat</th>\n",
       "      <th>lon</th>\n",
       "    </tr>\n",
       "  </thead>\n",
       "  <tbody>\n",
       "    <tr>\n",
       "      <th>0</th>\n",
       "      <td>4300 rosa parks blvd, Detroit MI 48208</td>\n",
       "      <td>42.346169</td>\n",
       "      <td>-83.079962</td>\n",
       "    </tr>\n",
       "    <tr>\n",
       "      <th>1</th>\n",
       "      <td>14512 sussex, Detroit MI</td>\n",
       "      <td>42.394657</td>\n",
       "      <td>-83.194265</td>\n",
       "    </tr>\n",
       "    <tr>\n",
       "      <th>2</th>\n",
       "      <td>3456 garland, Detroit MI</td>\n",
       "      <td>42.373779</td>\n",
       "      <td>-82.986228</td>\n",
       "    </tr>\n",
       "    <tr>\n",
       "      <th>3</th>\n",
       "      <td>5787 wayburn, Detroit MI</td>\n",
       "      <td>42.403342</td>\n",
       "      <td>-82.957805</td>\n",
       "    </tr>\n",
       "    <tr>\n",
       "      <th>4</th>\n",
       "      <td>5766 haverhill, Detroit MI</td>\n",
       "      <td>42.407255</td>\n",
       "      <td>-82.946295</td>\n",
       "    </tr>\n",
       "  </tbody>\n",
       "</table>\n",
       "</div>"
      ],
      "text/plain": [
       "                                  address        lat        lon\n",
       "0  4300 rosa parks blvd, Detroit MI 48208  42.346169 -83.079962\n",
       "1                14512 sussex, Detroit MI  42.394657 -83.194265\n",
       "2                3456 garland, Detroit MI  42.373779 -82.986228\n",
       "3                5787 wayburn, Detroit MI  42.403342 -82.957805\n",
       "4              5766 haverhill, Detroit MI  42.407255 -82.946295"
      ]
     },
     "execution_count": 25,
     "metadata": {},
     "output_type": "execute_result"
    }
   ],
   "source": [
    "# адреса связаны с координатами\n",
    "df2 = pd.read_csv('latlons.csv')\n",
    "df2.head()"
   ]
  },
  {
   "cell_type": "code",
   "execution_count": 26,
   "metadata": {},
   "outputs": [
    {
     "name": "stdout",
     "output_type": "stream",
     "text": [
      "(225000, 38)\n"
     ]
    },
    {
     "data": {
      "text/plain": [
       "Unnamed: 0                                                                    0\n",
       "ticket_id                                                                 22056\n",
       "agency_name                      Buildings, Safety Engineering & Env Department\n",
       "inspector_name                                                  Sims, Martinzie\n",
       "violator_name                                 INVESTMENT INC., MIDWEST MORTGAGE\n",
       "violation_street_number                                                    2900\n",
       "violation_street_name                                                     TYLER\n",
       "violation_zip_code                                                          NaN\n",
       "mailing_address_str_number                                                    3\n",
       "mailing_address_str_name                                              S. WICKER\n",
       "city                                                                    CHICAGO\n",
       "state                                                                        IL\n",
       "zip_code                                                                  60606\n",
       "non_us_str_code                                                             NaN\n",
       "country                                                                     USA\n",
       "ticket_issued_date                                          2004-03-16 11:40:00\n",
       "hearing_date                                                2005-03-21 10:30:00\n",
       "violation_code                                                        9-1-36(a)\n",
       "violation_description         Failure of owner to obtain certificate of comp...\n",
       "disposition                                              Responsible by Default\n",
       "fine_amount                                                                 250\n",
       "admin_fee                                                                    20\n",
       "state_fee                                                                    10\n",
       "late_fee                                                                     25\n",
       "discount_amount                                                               0\n",
       "clean_up_cost                                                                 0\n",
       "judgment_amount                                                             305\n",
       "payment_amount                                                                0\n",
       "balance_due                                                                 305\n",
       "payment_date                                                                NaN\n",
       "payment_status                                               NO PAYMENT APPLIED\n",
       "collection_status                                                           NaN\n",
       "grafitti_status                                                             NaN\n",
       "compliance_detail                                   non-compliant by no payment\n",
       "compliance                                                                    0\n",
       "address                                                  2900 tyler, Detroit MI\n",
       "lat                                                                     42.3907\n",
       "lon                                                                    -83.1243\n",
       "Name: 0, dtype: object"
      ]
     },
     "execution_count": 26,
     "metadata": {},
     "output_type": "execute_result"
    }
   ],
   "source": [
    "# чтобы не путаться в трех датафреймах, соединим их в один, использую merge()\n",
    "# она добавляет новые столбцы «умно», связывая строки по одинаковым значениям из столбцов с одинаковыми именами\n",
    "res = df.merge(df1).merge(df2)\n",
    "print(res.shape)\n",
    "res.iloc[0]"
   ]
  },
  {
   "cell_type": "code",
   "execution_count": 27,
   "metadata": {},
   "outputs": [
    {
     "data": {
      "text/plain": [
       "216"
      ]
     },
     "execution_count": 27,
     "metadata": {},
     "output_type": "execute_result"
    }
   ],
   "source": [
    "# признак violation_code выглядит интересным \n",
    "res['violation_code'].nunique()"
   ]
  },
  {
   "cell_type": "code",
   "execution_count": 28,
   "metadata": {},
   "outputs": [
    {
     "data": {
      "text/plain": [
       "9-1-36(a)               92469\n",
       "9-1-81(a)               41330\n",
       "22-2-88                 28720\n",
       "9-1-104                 18092\n",
       "22-2-45                  5208\n",
       "9-1-105                  4860\n",
       "9-1-43(a) - (Dwellin     4252\n",
       "9-1-110(a)               3994\n",
       "22-2-22                  3755\n",
       "9-1-103(C)               3278\n",
       "19450901                 2947\n",
       "22-2-43                  2744\n",
       "22-2-88(b)               2253\n",
       "22-2-17                  1940\n",
       "22-2-83(a)(b)(c)          849\n",
       "61-81.0100/32.0066        811\n",
       "22-2-83                   633\n",
       "9-1-43(a) - (Structu      598\n",
       "9-1-206                   334\n",
       "9-1-209                   310\n",
       "22-2-21(b)                261\n",
       "22-2-61                   259\n",
       "61-5-21                   257\n",
       "9-1-101                   247\n",
       "9-1-107                   205\n",
       "9-1-43(a) - (Stories      171\n",
       "9-1-111                   169\n",
       "20130901                  167\n",
       "9-1-201(a)                165\n",
       "22-2-88(a)                165\n",
       "61-63.0100                153\n",
       "22-2-38                   148\n",
       "61-5-18                   144\n",
       "9-1-205                   140\n",
       "61-8-27                   116\n",
       "22-2-56                   112\n",
       "9-1-201(b)                109\n",
       "22-2-41                   102\n",
       "61-4-37                    88\n",
       "61-4-33                    86\n",
       "9-1-311                    85\n",
       "22-2-16                    80\n",
       "61-4-32                    79\n",
       "61-63.0600                 77\n",
       "22-2-22(a)                 75\n",
       "9-1-82(d) - (Dwellin       71\n",
       "22-2-84(a)(1)(2)(4)        71\n",
       "22-2-44                    70\n",
       "22-2-93                    69\n",
       "22-3-2                     68\n",
       "9-1-355                    57\n",
       "61-5-19                    53\n",
       "9-1-303                    53\n",
       "19420901                   52\n",
       "9-1-212                    46\n",
       "22-2-23                    46\n",
       "9-1-202                    40\n",
       "22-2-97(b)                 39\n",
       "9-1-103 (a) or (b)         39\n",
       "9-1-210                    37\n",
       "22-2-17(a)                 36\n",
       "22-2-84(b)(3)              36\n",
       "22-2-53                    36\n",
       "22-2-87                    36\n",
       "22-2-55                    31\n",
       "22-2-83(c)                 28\n",
       "61-8-127                   27\n",
       "9-1-110(b)                 27\n",
       "61-101.0100/32.0066        27\n",
       "9-1-477                    26\n",
       "9-1-45(b)                  24\n",
       "22-2-91                    24\n",
       "9-1-213                    24\n",
       "61-8-47                    23\n",
       "9-1-476                    22\n",
       "9-1-36(c)                  22\n",
       "20180901                   20\n",
       "9-1-304                    20\n",
       "19830901                   18\n",
       "61-63.0500                 18\n",
       "61-80.0100                 17\n",
       "9-1-208                    17\n",
       "22-2-84(a)                 17\n",
       "9-1-81(b)                  16\n",
       "9-1-439                    14\n",
       "22-2-83(b)                 14\n",
       "22-2-83(d)                 13\n",
       "9-1-203                    13\n",
       "9-1-469                    13\n",
       "19850901                   13\n",
       "9-1-306                    12\n",
       "22-2-96                    12\n",
       "61-84.0100/32.0066         12\n",
       "9-1-112                    12\n",
       "9-1-109                    12\n",
       "9-1-301                    11\n",
       "9-1-442                    11\n",
       "9-1-309                    11\n",
       "22-2-83a                   11\n",
       "9-1-503                    10\n",
       "9-1-432(a)                 10\n",
       "22-2-49                    10\n",
       "9-1-214                    10\n",
       "9-1-331                    10\n",
       "9-1-12(b)                   9\n",
       "61-90.0100                  9\n",
       "9-1-204                     9\n",
       "9-1-464                     8\n",
       "61-83.0100/32.0066          8\n",
       "9-1-305                     8\n",
       "61-82.0100/32.0066          8\n",
       "9-1-216                     8\n",
       "9-1-211                     7\n",
       "9-1-102                     7\n",
       "9-1-307                     7\n",
       "9-1-351                     6\n",
       "9-1-81(e)                   6\n",
       "9-1-36(d)                   6\n",
       "9-1-45(c)                   6\n",
       "61-102.0100/32.0066         5\n",
       "9-1-108                     5\n",
       "22-2-20                     5\n",
       "9-1-443(a)                  5\n",
       "9-1-221                     5\n",
       "9-1-207                     5\n",
       "22-2-85                     4\n",
       "9-1-440                     4\n",
       "61-130.0000/130.0400        4\n",
       "9-1-468                     4\n",
       "22-2-94                     4\n",
       "22-2-42                     4\n",
       "22-2-84 (DO NOT USE         4\n",
       "9-1-465                     4\n",
       "61-5-20                     4\n",
       "9-1-441                     4\n",
       "22-2-21(a)                  4\n",
       "22-2-87(a)                  4\n",
       "61-14-175                   3\n",
       "61-83.0100/32.0031          3\n",
       "22-2-18                     3\n",
       "9-1-474                     3\n",
       "22-2-49(c)                  3\n",
       "9-1-220                     3\n",
       "22-2-25                     3\n",
       "61-81.0100/32.0031          3\n",
       "9-1-82(d) - (Buildin        3\n",
       "9-1-405                     3\n",
       "9-1-82(d) - (Structu        3\n",
       "61-85.0100/45.0807          3\n",
       "22-2-86                     3\n",
       "9-1-441(a)                  3\n",
       "61-121.0100/32.0066         3\n",
       "22-2-84(b)(1)               3\n",
       "19840901                    3\n",
       "22-2-49(a)                  2\n",
       "61-86.0100/32.0076B         2\n",
       "9-1-106                     2\n",
       "61-86.0100/32.0066          2\n",
       "61-81.0100/45.0807          2\n",
       "9-1-46(a)                   2\n",
       "22-2-92                     2\n",
       "61-100.0100                 2\n",
       "61-47.0000/47.0108          2\n",
       "61-82.0100/32.0031          2\n",
       "61-14-176                   2\n",
       "22-2-19                     2\n",
       "9-1-333                     2\n",
       "9-1-353(2)                  2\n",
       "61-85.0100/32.0031          2\n",
       "61-130.0000/130.0500        2\n",
       "9-1-83 - (Dwelling)         2\n",
       "9-1-479                     2\n",
       "9-1-478                     2\n",
       "9-1-444                     2\n",
       "61-114.0100                 2\n",
       "9-1-302                     2\n",
       "61-84.0100/45.0807          2\n",
       "61-120.0100/32.0066         1\n",
       "61-118.0100/32.0066         1\n",
       "61-85.0100/32.0066          1\n",
       "61-116.0100/32.0076B        1\n",
       "61-122.0100/32.0066         1\n",
       "61-86.0100/32.0031          1\n",
       "61-45.0000                  1\n",
       "61-111.0100/32.0066         1\n",
       "9-1-502                     1\n",
       "61-105.0100/32.066          1\n",
       "61-4-35                     1\n",
       "9-1-83 - (Structures        1\n",
       "9-1-381                     1\n",
       "61-86.0100/45.0807          1\n",
       "22-2-42(b)                  1\n",
       "61-114.0100/32.0031         1\n",
       "61-116.0100/32.0031         1\n",
       "61-115.0100/32.0031         1\n",
       "9-1-471                     1\n",
       "9-1-377                     1\n",
       "9-1-310                     1\n",
       "61-45.0000/45.0800          1\n",
       "22-2-97                     1\n",
       "9-1-354                     1\n",
       "61-96.0100/32.0066          1\n",
       "9-1-82(b)                   1\n",
       "9-1-352                     1\n",
       "9-1-433                     1\n",
       "9-1-406                     1\n",
       "9-1-375                     1\n",
       "61-14-452(2)                1\n",
       "61-104.0100                 1\n",
       "9-1-501                     1\n",
       "9-1-215                     1\n",
       "61-4-38                     1\n",
       "9-1-219                     1\n",
       "9-1-443(b)                  1\n",
       "9-1-462(a)                  1\n",
       "61-130.0000/130.0300        1\n",
       "Name: violation_code, dtype: int64"
      ]
     },
     "execution_count": 28,
     "metadata": {},
     "output_type": "execute_result"
    }
   ],
   "source": [
    "# посмотрим на уникальные значения кодов нарушений\n",
    "pd.set_option(\"display.max_rows\", 216)\n",
    "res['violation_code'].value_counts()"
   ]
  },
  {
   "cell_type": "code",
   "execution_count": 29,
   "metadata": {
    "scrolled": true
   },
   "outputs": [
    {
     "name": "stdout",
     "output_type": "stream",
     "text": [
      "compliance        0.0       1.0        N\n",
      "fine_amount                             \n",
      "25.0         0.923780  0.076220   1312.0\n",
      "50.0         0.909016  0.090984  16882.0\n",
      "100.0        0.882815  0.117185  14780.0\n",
      "125.0        0.944969  0.055031    636.0\n",
      "200.0        0.906291  0.093709  10650.0\n",
      "250.0        0.935715  0.064285  81668.0\n",
      "300.0        0.972348  0.027652   3761.0\n",
      "500.0        0.931855  0.068145   4916.0\n",
      "750.0        0.929936  0.070064    157.0\n",
      "1000.0       0.955645  0.044355   3720.0\n",
      "1500.0       0.938776  0.061224    196.0\n",
      "2500.0       0.968232  0.031768   1448.0\n",
      "3500.0       0.979269  0.020731   3859.0\n",
      "10000.0      0.994872  0.005128    195.0\n"
     ]
    },
    {
     "data": {
      "image/png": "[encoded data removed]",
      "text/plain": [
       "<Figure size 432x288 with 1 Axes>"
      ]
     },
     "metadata": {
      "needs_background": "light"
     },
     "output_type": "display_data"
    }
   ],
   "source": [
    "# построим сводную таблицу для размера штрафов и его уплаты/неуплаты \n",
    "col = 'fine_amount' \n",
    "cros = pd.crosstab(res[col], res['compliance'], normalize='index', margins=True)\n",
    "\n",
    "# добавим столбец с числом выписанных штрафов на различные суммы\n",
    "cros['N'] = res[(res['compliance'] == 1) | (res['compliance'] == 0)][col].value_counts() \n",
    "\n",
    "print(cros[cros['N'] > 100]) \n",
    "\n",
    "# построим график \n",
    "plt.plot(cros[cros['N'] > 100].index, cros[cros['N'] > 100][0], 'k.')\n",
    "\n",
    "# красная звездочка - самая часто встречающаяся сумма выписываемых штрафов\n",
    "maxind = cros['N'].idxmax()\n",
    "plt.plot(maxind, cros.loc[maxind, 0], 'r*')\n",
    "\n",
    "# пунктирная линия - средняя доля штрафов, которые не были оплачены \n",
    "aver = (cros[0]*cros['N']).sum()/cros['N'].sum()\n",
    "plt.plot([0, np.max(res[col])], [aver, aver], 'p-.')\n",
    " \n",
    "plt.axis((0, np.max(res[col]), .85, 1))\n",
    "plt.xlabel('общая сумма штрафа')\n",
    "plt.ylabel('% неоплаченных')\n",
    "\n",
    "plt.show()"
   ]
  },
  {
   "cell_type": "code",
   "execution_count": 30,
   "metadata": {},
   "outputs": [
    {
     "name": "stdout",
     "output_type": "stream",
     "text": [
      "compliance                  0.0       1.0      N\n",
      "violator_name                                   \n",
      "INVESTMENT, ACORN      1.000000  0.000000  618.0\n",
      "INVESTMENT CO., ACORN  1.000000  0.000000  343.0\n",
      "BANK, WELLS FARGO      0.979675  0.020325  246.0\n",
      "MILLER, JOHN           0.994083  0.005917  169.0\n",
      "STEHLIK, JERRY         0.865385  0.134615  156.0\n",
      "NEW YORK, BANK OF      0.971223  0.028777  139.0\n",
      "KRAMER, KEITH          1.000000  0.000000  117.0\n",
      "SNOW, GEORGE           1.000000  0.000000  108.0\n",
      "APARTMENTS, CARLTON    1.000000  0.000000  102.0\n"
     ]
    }
   ],
   "source": [
    "# аналогично построим сводную таблицу для названий компаний, которым выписывался штраф, и его факта уплаты/неуплаты\n",
    "col = 'violator_name'\n",
    "cros = pd.crosstab(res[col], res['compliance'], normalize='index', margins=True)\n",
    "\n",
    "# подсчитаем количество штрафов, выписанных этим компаниям\n",
    "cros['N'] = res[(res['compliance'] == 1) | (res['compliance'] == 0)][col].value_counts() \n",
    "\n",
    "print(cros[cros['N'] > 100].sort_values(by=['N'], ascending=False))"
   ]
  },
  {
   "cell_type": "code",
   "execution_count": 31,
   "metadata": {},
   "outputs": [
    {
     "name": "stdout",
     "output_type": "stream",
     "text": [
      "compliance                 0.0       1.0        N\n",
      "violation_code                                   \n",
      "9-1-36(a)             0.924545  0.075455  60460.0\n",
      "9-1-81(a)             0.967227  0.032773  21908.0\n",
      "22-2-88               0.929114  0.070886  19073.0\n",
      "9-1-104               0.919147  0.080853  13741.0\n",
      "22-2-45               0.868434  0.131566   4074.0\n",
      "9-1-105               0.911664  0.088336   3498.0\n",
      "9-1-110(a)            0.881049  0.118951   2707.0\n",
      "22-2-22               0.899694  0.100306   2612.0\n",
      "9-1-43(a) - (Dwellin  0.977867  0.022133   2485.0\n",
      "9-1-103(C)            0.851429  0.148571   2450.0\n",
      "22-2-43               0.867284  0.132716   1944.0\n",
      "19450901              0.971945  0.028055   1604.0\n",
      "22-2-88(b)            0.949837  0.050163   1535.0\n",
      "22-2-17               0.929279  0.070721   1414.0\n",
      "22-2-83(a)(b)(c)      0.967611  0.032389    494.0\n",
      "61-81.0100/32.0066    0.833713  0.166287    439.0\n",
      "22-2-83               0.956772  0.043228    347.0\n",
      "9-1-43(a) - (Structu  0.966967  0.033033    333.0\n",
      "9-1-206               0.943723  0.056277    231.0\n",
      "9-1-209               0.895288  0.104712    191.0\n",
      "22-2-21(b)            0.871345  0.128655    171.0\n",
      "9-1-101               0.977444  0.022556    133.0\n",
      "22-2-61               0.812500  0.187500    128.0\n",
      "61-5-21               0.865079  0.134921    126.0\n",
      "9-1-107               0.872000  0.128000    125.0\n",
      "9-1-201(a)            0.909091  0.090909    121.0\n",
      "22-2-88(a)            0.963964  0.036036    111.0\n",
      "9-1-111               0.788991  0.211009    109.0\n"
     ]
    }
   ],
   "source": [
    "# аналогично для кода нарушения и уплаты/неуплаты штрафа\n",
    "col = 'violation_code'\n",
    "cros  = pd.crosstab(res[col], res['compliance'], normalize='index', margins=True)\n",
    "\n",
    "# сколько раз встречались следующие коды нарушений \n",
    "cros['N'] = res[(res['compliance'] == 1) | (res['compliance'] == 0)][col].value_counts() \n",
    "\n",
    "print(cros[cros['N'] > 100].sort_values(by=['N'], ascending=False))"
   ]
  },
  {
   "cell_type": "code",
   "execution_count": 32,
   "metadata": {},
   "outputs": [],
   "source": [
    "# определим признаки, по которым будем обучать модель \n",
    "feature_col = ['disposition', 'agency_name', 'late_fee', 'fine_amount','violation_description']\n",
    "\n",
    "#удалим наблюдения, для которых штраф был выписан ошибочно\n",
    "res = res.dropna(subset = ['compliance'])\n",
    "df = res[feature_col]\n",
    "# определим категориальные признаки, которые в дальнейшем нужно будет преобразовать\n",
    "cate_col = ['disposition', 'agency_name', 'violation_description'] \n",
    "\n",
    "# определим вектор правильных ответов как столбец с указанием на уплату/неуплату штрафа\n",
    "y = res['compliance']\n",
    "X = df\n",
    "\n",
    "# преобразуем категориальные признаки с помощью наивного кодирования\n",
    "X_d = pd.get_dummies(X[cate_col])\n",
    "\n",
    "# составим окончательную матрицу объектов-признаков\n",
    "X_new = X[X.columns[np.in1d(X.columns, cate_col, invert=True)]].join(X_d)"
   ]
  },
  {
   "cell_type": "code",
   "execution_count": 33,
   "metadata": {},
   "outputs": [],
   "source": [
    "# разбиение на обучающую и тестовые выборки \n",
    "X_train, X_test, y_train, y_test = train_test_split(X_new, y, random_state=0, test_size=0.1)"
   ]
  },
  {
   "cell_type": "code",
   "execution_count": 37,
   "metadata": {},
   "outputs": [],
   "source": [
    "scaler = RobustScaler(quantile_range=(25, 75))\n",
    "\n",
    "# масштабируем как тренировочные, так и тестовые данные\n",
    "X_train_s = scaler.fit_transform(X_train)\n",
    "X_test_s = scaler.transform(X_test)"
   ]
  },
  {
   "cell_type": "code",
   "execution_count": 38,
   "metadata": {},
   "outputs": [],
   "source": [
    "# выбираем тип используемого классификатора\n",
    "clf = GradientBoostingClassifier(learning_rate=0.1, n_estimators=200)"
   ]
  },
  {
   "cell_type": "code",
   "execution_count": 39,
   "metadata": {},
   "outputs": [
    {
     "data": {
      "text/plain": [
       "GridSearchCV(cv=None, error_score=nan,\n",
       "             estimator=GradientBoostingClassifier(ccp_alpha=0.0,\n",
       "                                                  criterion='friedman_mse',\n",
       "                                                  init=None, learning_rate=0.1,\n",
       "                                                  loss='deviance', max_depth=3,\n",
       "                                                  max_features=None,\n",
       "                                                  max_leaf_nodes=None,\n",
       "                                                  min_impurity_decrease=0.0,\n",
       "                                                  min_impurity_split=None,\n",
       "                                                  min_samples_leaf=1,\n",
       "                                                  min_samples_split=2,\n",
       "                                                  min_weight_fraction_leaf=0.0,\n",
       "                                                  n_estimators=200,\n",
       "                                                  n_iter_no_change=None,\n",
       "                                                  presort='deprecated',\n",
       "                                                  random_state=None,\n",
       "                                                  subsample=1.0, tol=0.0001,\n",
       "                                                  validation_fraction=0.1,\n",
       "                                                  verbose=0, warm_start=False),\n",
       "             iid='deprecated', n_jobs=None,\n",
       "             param_grid={'max_depth': [4, 6, 8],\n",
       "                         'max_features': ['sqrt', 'log2']},\n",
       "             pre_dispatch='2*n_jobs', refit=True, return_train_score=False,\n",
       "             scoring='roc_auc', verbose=0)"
      ]
     },
     "execution_count": 39,
     "metadata": {},
     "output_type": "execute_result"
    }
   ],
   "source": [
    "# воспользуемся поиском по сетке гиперпараметров, чтобы выбрать оптимальные\n",
    "grid_values = {'max_features': ['sqrt', 'log2'], 'max_depth':[4, 6, 8]}\n",
    "\n",
    "# выбираем классификатор с оптимальными гиперпараметрами\n",
    "grid_clf_auc = GridSearchCV(clf, param_grid=grid_values, scoring='roc_auc')\n",
    "grid_clf_auc.fit(X_train_s, y_train)"
   ]
  },
  {
   "cell_type": "code",
   "execution_count": 40,
   "metadata": {},
   "outputs": [
    {
     "name": "stdout",
     "output_type": "stream",
     "text": [
      "0.7992933451067092\n"
     ]
    }
   ],
   "source": [
    "# наилучший результат по метрике площадь под roc кривой\n",
    "print(grid_clf_auc.best_score_)"
   ]
  },
  {
   "cell_type": "code",
   "execution_count": 41,
   "metadata": {},
   "outputs": [
    {
     "name": "stdout",
     "output_type": "stream",
     "text": [
      "0.792\n"
     ]
    }
   ],
   "source": [
    "clf2 = grid_clf_auc.best_estimator_\n",
    " \n",
    "# применим классификатор с найденными гиперпараметрами к тестовой выборке\n",
    "y_proba = clf2.predict_proba(X_test_s)\n",
    " \n",
    "# вычислим roc-auc\n",
    "roc_auc = roc_auc_score(y_test, y_proba[:,1])\n",
    " \n",
    "# значение roc-auc после применения алгоритма к тестовой выборке\n",
    "print('{:.3f}'.format(roc_auc))"
   ]
  },
  {
   "cell_type": "code",
   "execution_count": 42,
   "metadata": {},
   "outputs": [],
   "source": [
    "# сделаем предсказания на тестовом наборе \n",
    "dft2 = pd.read_csv('test_2.csv')\n",
    "dft2 = dft2.set_index('ticket_id')\n",
    "Xt = dft2[feature_col]\n",
    "\n",
    "# преобразуем категориальные признаки\n",
    "Xt_d = pd.get_dummies(Xt[cate_col])\n",
    "Xt_new = Xt[Xt.columns[np.in1d(Xt.columns, cate_col, invert=True)]].join(Xt_d)\n",
    "\n",
    "# удалим лишние столбцы\n",
    "iddel = np.in1d(Xt_new.columns, X_train.columns)\n",
    "Xt_new2 = Xt_new[Xt_new.columns[iddel]]\n",
    "Xt_new2.columns\n",
    "\n",
    "# добавим столбцы в тестовый набор\n",
    "idadd = np.in1d(X_train.columns, Xt_new2.columns, invert=True)\n",
    "kwargs = {} \n",
    "for colname in X_train.columns[idadd]:\n",
    "    kwargs[colname] = 0\n",
    "\n",
    "Xt_new2 = Xt_new2.assign(**kwargs)\n",
    "\n",
    "# масштабируем данные\n",
    "Xt_s = scaler.transform(Xt_new2)\n",
    "\n",
    "# сделаем предсказания\n",
    "y_proba_t = clf2.predict_proba(Xt_s)\n",
    "\n",
    "# сформируем выходные данные согласно требованиям: \n",
    "# матрица из двух колонок – id штрафа и вероятности его оплаты\n",
    "ans = pd.Series(y_proba_t[:,1], index=Xt_new2.index, dtype='float32')\n",
    "ans.name = 'compliance'\n"
   ]
  },
  {
   "cell_type": "code",
   "execution_count": 43,
   "metadata": {},
   "outputs": [
    {
     "data": {
      "text/html": [
       "<div>\n",
       "<style scoped>\n",
       "    .dataframe tbody tr th:only-of-type {\n",
       "        vertical-align: middle;\n",
       "    }\n",
       "\n",
       "    .dataframe tbody tr th {\n",
       "        vertical-align: top;\n",
       "    }\n",
       "\n",
       "    .dataframe thead th {\n",
       "        text-align: right;\n",
       "    }\n",
       "</style>\n",
       "<table border=\"1\" class=\"dataframe\">\n",
       "  <thead>\n",
       "    <tr style=\"text-align: right;\">\n",
       "      <th></th>\n",
       "      <th>compliance</th>\n",
       "    </tr>\n",
       "    <tr>\n",
       "      <th>ticket_id</th>\n",
       "      <th></th>\n",
       "    </tr>\n",
       "  </thead>\n",
       "  <tbody>\n",
       "    <tr>\n",
       "      <th>259669</th>\n",
       "      <td>0.028734</td>\n",
       "    </tr>\n",
       "    <tr>\n",
       "      <th>259733</th>\n",
       "      <td>0.786591</td>\n",
       "    </tr>\n",
       "    <tr>\n",
       "      <th>258776</th>\n",
       "      <td>0.028734</td>\n",
       "    </tr>\n",
       "    <tr>\n",
       "      <th>258777</th>\n",
       "      <td>0.021583</td>\n",
       "    </tr>\n",
       "    <tr>\n",
       "      <th>259663</th>\n",
       "      <td>0.246609</td>\n",
       "    </tr>\n",
       "  </tbody>\n",
       "</table>\n",
       "</div>"
      ],
      "text/plain": [
       "           compliance\n",
       "ticket_id            \n",
       "259669       0.028734\n",
       "259733       0.786591\n",
       "258776       0.028734\n",
       "258777       0.021583\n",
       "259663       0.246609"
      ]
     },
     "execution_count": 43,
     "metadata": {},
     "output_type": "execute_result"
    }
   ],
   "source": [
    "pd.DataFrame(ans).head()"
   ]
  },
  {
   "cell_type": "code",
   "execution_count": 44,
   "metadata": {},
   "outputs": [],
   "source": [
    "#y_pred = clf2.predict(X_test_s)"
   ]
  },
  {
   "cell_type": "code",
   "execution_count": 45,
   "metadata": {},
   "outputs": [],
   "source": [
    "#from sklearn.metrics import accuracy_score\n",
    "#accuracy_score(y_test, y_pred)"
   ]
  },
  {
   "cell_type": "markdown",
   "metadata": {},
   "source": [
    "###  Добавление нового признака\n",
    "###  Тестирование работы модели с учетом нового признака"
   ]
  },
  {
   "cell_type": "code",
   "execution_count": 46,
   "metadata": {},
   "outputs": [],
   "source": [
    "# добавим новый признак, полученный как время в секундах между выпиской штрафа и датой слушания в суде\n",
    "\n",
    "dres = res.copy()\n",
    "dftest = dft2.copy()\n",
    "tdiff = pd.to_datetime(res['hearing_date']) - pd.to_datetime(res['ticket_issued_date'])\n",
    "dres['TimeDiff'] = tdiff.dt.total_seconds() / 86400\n",
    "tdiff = pd.to_datetime(dft2['hearing_date']) - pd.to_datetime(dft2['ticket_issued_date'])\n",
    "dftest['TimeDiff'] = tdiff.dt.total_seconds() / 86400\n",
    "dftest.head()\n",
    "res = dres"
   ]
  },
  {
   "cell_type": "code",
   "execution_count": 79,
   "metadata": {},
   "outputs": [],
   "source": [
    "# определим признаки, по которым будем обучать модель \n",
    "feature_col = ['disposition', 'agency_name', 'late_fee', 'fine_amount','violation_description', 'TimeDiff']\n",
    "\n",
    "#удалим наблюдения, для которых штраф был выписан ошибочно\n",
    "res = res.dropna(subset = ['compliance'])\n",
    "res = res.dropna(subset = ['TimeDiff'])\n",
    "df = res[feature_col]\n",
    "# определим категориальные признаки, которые в дальнейшем нужно будет преобразовать\n",
    "cate_col = ['disposition', 'agency_name', 'violation_description'] \n",
    "\n",
    "# определим вектор правильных ответов как столбец с указанием на уплату/неуплату штрафа\n",
    "y = res['compliance']\n",
    "X = df\n",
    "\n",
    "# преобразуем категориальные признаки с помощью наивного кодирования\n",
    "X_d = pd.get_dummies(X[cate_col])\n",
    "\n",
    "# составим окончательную матрицу объектов-признаков\n",
    "X_new = X[X.columns[np.in1d(X.columns, cate_col, invert=True)]].join(X_d)"
   ]
  },
  {
   "cell_type": "code",
   "execution_count": 80,
   "metadata": {},
   "outputs": [],
   "source": [
    "X_train, X_test, y_train, y_test = train_test_split(X_new, y, random_state=0, test_size=0.1)"
   ]
  },
  {
   "cell_type": "code",
   "execution_count": 81,
   "metadata": {},
   "outputs": [],
   "source": [
    "scaler = RobustScaler(quantile_range=(25, 75))\n",
    "\n",
    "# масштабируем как тренировочные, так и тестовые данные\n",
    "X_train_s = scaler.fit_transform(X_train)\n",
    "X_test_s = scaler.transform(X_test)"
   ]
  },
  {
   "cell_type": "code",
   "execution_count": 82,
   "metadata": {},
   "outputs": [],
   "source": [
    "clf = GradientBoostingClassifier(learning_rate=0.1, n_estimators=200)"
   ]
  },
  {
   "cell_type": "code",
   "execution_count": 83,
   "metadata": {},
   "outputs": [
    {
     "data": {
      "text/plain": [
       "GridSearchCV(cv=None, error_score=nan,\n",
       "             estimator=GradientBoostingClassifier(ccp_alpha=0.0,\n",
       "                                                  criterion='friedman_mse',\n",
       "                                                  init=None, learning_rate=0.1,\n",
       "                                                  loss='deviance', max_depth=3,\n",
       "                                                  max_features=None,\n",
       "                                                  max_leaf_nodes=None,\n",
       "                                                  min_impurity_decrease=0.0,\n",
       "                                                  min_impurity_split=None,\n",
       "                                                  min_samples_leaf=1,\n",
       "                                                  min_samples_split=2,\n",
       "                                                  min_weight_fraction_leaf=0.0,\n",
       "                                                  n_estimators=200,\n",
       "                                                  n_iter_no_change=None,\n",
       "                                                  presort='deprecated',\n",
       "                                                  random_state=None,\n",
       "                                                  subsample=1.0, tol=0.0001,\n",
       "                                                  validation_fraction=0.1,\n",
       "                                                  verbose=0, warm_start=False),\n",
       "             iid='deprecated', n_jobs=None,\n",
       "             param_grid={'max_depth': [4, 6, 8],\n",
       "                         'max_features': ['sqrt', 'log2']},\n",
       "             pre_dispatch='2*n_jobs', refit=True, return_train_score=False,\n",
       "             scoring='roc_auc', verbose=0)"
      ]
     },
     "execution_count": 83,
     "metadata": {},
     "output_type": "execute_result"
    }
   ],
   "source": [
    "# воспользуемся поиском по сетке гиперпараметров, чтобы выбрать оптимальные\n",
    "grid_values = {'max_features': ['sqrt', 'log2'], 'max_depth':[4, 6, 8]}\n",
    "\n",
    "# выбираем классификатор с оптимальными гиперпараметрами\n",
    "grid_clf_auc = GridSearchCV(clf, param_grid=grid_values, scoring='roc_auc')\n",
    "grid_clf_auc.fit(X_train_s, y_train)"
   ]
  },
  {
   "cell_type": "code",
   "execution_count": 84,
   "metadata": {},
   "outputs": [
    {
     "name": "stdout",
     "output_type": "stream",
     "text": [
      "0.8091659285272073\n"
     ]
    }
   ],
   "source": [
    "print(grid_clf_auc.best_score_)"
   ]
  },
  {
   "cell_type": "code",
   "execution_count": 85,
   "metadata": {},
   "outputs": [
    {
     "name": "stdout",
     "output_type": "stream",
     "text": [
      "0.810\n"
     ]
    }
   ],
   "source": [
    "clf2 = grid_clf_auc.best_estimator_\n",
    " \n",
    "# применим классификатор с найденными гиперпараметрами к тестовой выборке\n",
    "y_proba = clf2.predict_proba(X_test_s)\n",
    " \n",
    "# вычислим roc-auc\n",
    "roc_auc = roc_auc_score(y_test, y_proba[:,1])\n",
    " \n",
    "# значение roc-auc после применения алгоритма к тестовой выборке\n",
    "print('{:.3f}'.format(roc_auc))"
   ]
  },
  {
   "cell_type": "markdown",
   "metadata": {},
   "source": [
    "Добавление нового признака увеличило значение метрики качества модели"
   ]
  },
  {
   "cell_type": "code",
   "execution_count": 91,
   "metadata": {},
   "outputs": [],
   "source": [
    "# сделаем предсказания на тестовом наборе \n",
    "dft2 = dftest\n",
    "dft2 = dft2.dropna(subset = ['TimeDiff'])\n",
    "\n",
    "Xt = dft2[feature_col]\n",
    "\n",
    "# преобразуем категориальные признаки\n",
    "Xt_d = pd.get_dummies(Xt[cate_col])\n",
    "Xt_new = Xt[Xt.columns[np.in1d(Xt.columns, cate_col, invert=True)]].join(Xt_d)\n",
    "\n",
    "# удалим лишние столбцы\n",
    "iddel = np.in1d(Xt_new.columns, X_train.columns)\n",
    "Xt_new2 = Xt_new[Xt_new.columns[iddel]]\n",
    "Xt_new2.columns\n",
    "\n",
    "# добавим столбцы в тестовый набор\n",
    "idadd = np.in1d(X_train.columns, Xt_new2.columns, invert=True)\n",
    "kwargs = {} \n",
    "for colname in X_train.columns[idadd]:\n",
    "    kwargs[colname] = 0\n",
    "\n",
    "Xt_new2 = Xt_new2.assign(**kwargs)\n",
    "\n",
    "# масштабируем данные\n",
    "Xt_s = scaler.transform(Xt_new2)\n",
    "\n",
    "# сделаем предсказания\n",
    "y_proba_t = clf2.predict_proba(Xt_s)\n",
    "\n",
    "# сформируем выходные данные согласно требованиям: \n",
    "# матрица из двух колонок – id штрафа и вероятности его оплаты\n",
    "ans = pd.Series(y_proba_t[:,1], index=Xt_new2.index, dtype='float32')\n",
    "ans.name = 'compliance'"
   ]
  },
  {
   "cell_type": "markdown",
   "metadata": {},
   "source": [
    "###  Результат"
   ]
  },
  {
   "cell_type": "code",
   "execution_count": 97,
   "metadata": {},
   "outputs": [
    {
     "data": {
      "text/html": [
       "<div>\n",
       "<style scoped>\n",
       "    .dataframe tbody tr th:only-of-type {\n",
       "        vertical-align: middle;\n",
       "    }\n",
       "\n",
       "    .dataframe tbody tr th {\n",
       "        vertical-align: top;\n",
       "    }\n",
       "\n",
       "    .dataframe thead th {\n",
       "        text-align: right;\n",
       "    }\n",
       "</style>\n",
       "<table border=\"1\" class=\"dataframe\">\n",
       "  <thead>\n",
       "    <tr style=\"text-align: right;\">\n",
       "      <th></th>\n",
       "      <th>compliance</th>\n",
       "    </tr>\n",
       "    <tr>\n",
       "      <th>ticket_id</th>\n",
       "      <th></th>\n",
       "    </tr>\n",
       "  </thead>\n",
       "  <tbody>\n",
       "    <tr>\n",
       "      <th>259669</th>\n",
       "      <td>0.035523</td>\n",
       "    </tr>\n",
       "    <tr>\n",
       "      <th>259733</th>\n",
       "      <td>0.818088</td>\n",
       "    </tr>\n",
       "    <tr>\n",
       "      <th>258776</th>\n",
       "      <td>0.133015</td>\n",
       "    </tr>\n",
       "    <tr>\n",
       "      <th>258777</th>\n",
       "      <td>0.307572</td>\n",
       "    </tr>\n",
       "    <tr>\n",
       "      <th>259663</th>\n",
       "      <td>0.273133</td>\n",
       "    </tr>\n",
       "  </tbody>\n",
       "</table>\n",
       "</div>"
      ],
      "text/plain": [
       "           compliance\n",
       "ticket_id            \n",
       "259669       0.035523\n",
       "259733       0.818088\n",
       "258776       0.133015\n",
       "258777       0.307572\n",
       "259663       0.273133"
      ]
     },
     "execution_count": 97,
     "metadata": {},
     "output_type": "execute_result"
    }
   ],
   "source": [
    "pd.DataFrame(ans).head()"
   ]
  },
  {
   "cell_type": "code",
   "execution_count": 111,
   "metadata": {},
   "outputs": [
    {
     "data": {
      "image/png": "[encoded data removed]",
      "text/plain": [
       "<Figure size 432x288 with 1 Axes>"
      ]
     },
     "metadata": {
      "needs_background": "light"
     },
     "output_type": "display_data"
    },
    {
     "data": {
      "image/png": "[encoded data removed]",
      "text/plain": [
       "<Figure size 432x288 with 1 Axes>"
      ]
     },
     "metadata": {
      "needs_background": "light"
     },
     "output_type": "display_data"
    }
   ],
   "source": [
    "# pr кривая\n",
    "precision, recall, thresholds = precision_recall_curve(y_test, y_proba[:,1])\n",
    "fpr, tpr, _ = roc_curve(y_test, y_proba[:,1])\n",
    "roc_auc = auc(fpr, tpr)\n",
    "\n",
    "closest_zero = np.argmin(np.abs(thresholds))\n",
    "closest_zero_p = precision[closest_zero]\n",
    "closest_zero_r = recall[closest_zero]\n",
    "\n",
    "plt.figure()\n",
    "plt.xlim([0, 1])\n",
    "plt.ylim([0, 1])\n",
    "plt.plot(precision, recall, label='Precision-Recall Curve')\n",
    "plt.plot(closest_zero_p, closest_zero_r, 'o')\n",
    "plt.xlabel('Precision')\n",
    "plt.ylabel('Recall')\n",
    "plt.show()\n",
    "\n",
    "# roc кривая\n",
    "plt.figure()\n",
    "plt.xlim([0, 1])\n",
    "plt.ylim([0, 1])\n",
    "plt.plot(fpr, tpr, lw=3, label='ROC curve (area = {:0.2f})'.format(roc_auc))\n",
    "plt.xlabel('False Positive Rate')\n",
    "plt.ylabel('True Positive Rate')\n",
    "plt.legend(loc='lower right', fontsize=13)\n",
    "plt.plot([0, 1], [0, 1], color='navy', lw=3, linestyle='--')\n",
    "plt.show()"
   ]
  },
  {
   "cell_type": "markdown",
   "metadata": {},
   "source": [
    "Результат получен. В этой работе в стороне остались географические признаки (например, классифицировать районы по состоянию помещений и благонадежности и использовать это как признак, но для этого нужна дополнительная информация). "
   ]
  }
 ],
 "metadata": {
  "kernelspec": {
   "display_name": "Python 3",
   "language": "python",
   "name": "python3"
  },
  "language_info": {
   "codemirror_mode": {
    "name": "ipython",
    "version": 3
   },
   "file_extension": ".py",
   "mimetype": "text/x-python",
   "name": "python",
   "nbconvert_exporter": "python",
   "pygments_lexer": "ipython3",
   "version": "3.6.9"
  }
 },
 "nbformat": 4,
 "nbformat_minor": 2
}
